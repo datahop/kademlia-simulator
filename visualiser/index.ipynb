{
 "cells": [
  {
   "cell_type": "code",
   "execution_count": 29,
   "metadata": {},
   "outputs": [
    {
     "name": "stdout",
     "output_type": "stream",
     "text": [
      "Local cdn resources have problems on chrome/safari when used in jupyter-notebook. \n"
     ]
    },
    {
     "data": {
      "text/html": [
       "\n",
       "        <iframe\n",
       "            width=\"1280px\"\n",
       "            height=\"600px\"\n",
       "            src=\"nx.html\"\n",
       "            frameborder=\"0\"\n",
       "            allowfullscreen\n",
       "            \n",
       "        ></iframe>\n",
       "        "
      ],
      "text/plain": [
       "<IPython.lib.display.IFrame at 0x1fdcfad1ea0>"
      ]
     },
     "execution_count": 29,
     "metadata": {},
     "output_type": "execute_result"
    }
   ],
   "source": [
    "from matplotlib.pyplot import fill\n",
    "import pandas as pd\n",
    "import networkx as nx\n",
    "\n",
    "from pprint import pprint\n",
    "from rich.markdown import Markdown\n",
    "from rich import print\n",
    "from rich.console import Console\n",
    "from pyvis.network import Network\n",
    "\n",
    "console = Console(record = True)\n",
    "# ---------------------------------------------------------------------------- #\n",
    "#                                 File Reading                                 #\n",
    "# ---------------------------------------------------------------------------- #\n",
    "# ? Read contents of operation\n",
    "op_df = pd.read_csv('log_folder/operation.csv')\n",
    "# src | id | type | messages\n",
    "# ? Read contents of msg\n",
    "msg_df = pd.read_csv('log_folder/msg.csv')\n",
    "# dst | src | id | type | status\n",
    "\n",
    "nx_graph = nx.Graph()\n",
    "\n",
    "num_len = 6\n",
    "physics = True\n",
    "\n",
    "for index, row in msg_df.iterrows():\n",
    "    nx_graph.add_node(str(row[\"id\"])[:num_len], label=str(row[\"id\"])[:num_len], physics=physics)\n",
    "    nx_graph.add_edge(str(row[\"src\"])[:num_len], str(row[\"dst\"])[:num_len], physics=physics)\n",
    "    \n",
    "for index, row in op_df.iterrows():\n",
    "    nx_graph.add_node(str(row[\"id\"])[:num_len], label=str(row[\"id\"])[:num_len], color=\"green\", physics=physics)\n",
    "    \n",
    "nt = Network('720px', '1280px', notebook=True)\n",
    "nt.from_nx(nx_graph)\n",
    "nt.show(\"nx.html\")"
   ]
  }
 ],
 "metadata": {
  "kernelspec": {
   "display_name": "Python 3.10.0 64-bit",
   "language": "python",
   "name": "python3"
  },
  "language_info": {
   "codemirror_mode": {
    "name": "ipython",
    "version": 3
   },
   "file_extension": ".py",
   "mimetype": "text/x-python",
   "name": "python",
   "nbconvert_exporter": "python",
   "pygments_lexer": "ipython3",
   "version": "3.10.0"
  },
  "orig_nbformat": 4,
  "vscode": {
   "interpreter": {
    "hash": "ee9a1b83036b540f44c6734ff698a93dad4ca67534a70d09177e581214cff0be"
   }
  }
 },
 "nbformat": 4,
 "nbformat_minor": 2
}
